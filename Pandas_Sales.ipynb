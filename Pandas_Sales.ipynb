{
  "nbformat": 4,
  "nbformat_minor": 0,
  "metadata": {
    "colab": {
      "name": "Pandas_Sales.ipynb",
      "provenance": [],
      "collapsed_sections": [],
      "mount_file_id": "1T6zXO0BtULmAnv19j7H5IStbjsB09BpY",
      "authorship_tag": "ABX9TyPRvrI9FffTUabkJLhl6QG9",
      "include_colab_link": true
    },
    "kernelspec": {
      "name": "python3",
      "display_name": "Python 3"
    }
  },
  "cells": [
    {
      "cell_type": "markdown",
      "metadata": {
        "id": "view-in-github",
        "colab_type": "text"
      },
      "source": [
        "<a href=\"https://colab.research.google.com/github/codeplinth/pandasbootcamp/blob/master/Pandas_Sales.ipynb\" target=\"_parent\"><img src=\"https://colab.research.google.com/assets/colab-badge.svg\" alt=\"Open In Colab\"/></a>"
      ]
    },
    {
      "cell_type": "code",
      "metadata": {
        "id": "C5BTtr6Ymom-",
        "outputId": "bf55e70a-d4e6-49be-986b-6142c4b1a3e4",
        "colab": {
          "base_uri": "https://localhost:8080/",
          "height": 87
        }
      },
      "source": [
        "!ls \"/content/drive/My Drive/data/Sales_Data\""
      ],
      "execution_count": null,
      "outputs": [
        {
          "output_type": "stream",
          "text": [
            "Sales_April_2019.csv\t Sales_January_2019.csv  Sales_May_2019.csv\n",
            "Sales_August_2019.csv\t Sales_July_2019.csv\t Sales_November_2019.csv\n",
            "Sales_December_2019.csv  Sales_June_2019.csv\t Sales_October_2019.csv\n",
            "Sales_February_2019.csv  Sales_March_2019.csv\t Sales_September_2019.csv\n"
          ],
          "name": "stdout"
        }
      ]
    },
    {
      "cell_type": "code",
      "metadata": {
        "id": "jgso67Wxm5cI"
      },
      "source": [
        "import pandas as pd\n",
        "import os"
      ],
      "execution_count": null,
      "outputs": []
    },
    {
      "cell_type": "code",
      "metadata": {
        "id": "-MmvE9zQnyqg"
      },
      "source": [
        "df = pd.read_csv('/content/drive/My Drive/data/Sales_Data/Sales_April_2019.csv')"
      ],
      "execution_count": null,
      "outputs": []
    },
    {
      "cell_type": "code",
      "metadata": {
        "id": "BJ9KZi1Vn-zm",
        "outputId": "f3231fa4-d286-401f-e49a-1c60199033d0",
        "colab": {
          "base_uri": "https://localhost:8080/",
          "height": 225
        }
      },
      "source": [
        "filelist = [file for file in os.listdir('/content/drive/My Drive/data/Sales_Data/')]\n",
        "for f in filelist:\n",
        "  print(f)"
      ],
      "execution_count": null,
      "outputs": [
        {
          "output_type": "stream",
          "text": [
            "Sales_October_2019.csv\n",
            "Sales_April_2019.csv\n",
            "Sales_June_2019.csv\n",
            "Sales_January_2019.csv\n",
            "Sales_March_2019.csv\n",
            "Sales_September_2019.csv\n",
            "Sales_February_2019.csv\n",
            "Sales_November_2019.csv\n",
            "Sales_May_2019.csv\n",
            "Sales_December_2019.csv\n",
            "Sales_July_2019.csv\n",
            "Sales_August_2019.csv\n"
          ],
          "name": "stdout"
        }
      ]
    },
    {
      "cell_type": "code",
      "metadata": {
        "id": "WH-2lwRioGCX"
      },
      "source": [
        "all_months_data = pd.DataFrame()\n",
        "for f in filelist:\n",
        "  df = pd.read_csv('/content/drive/My Drive/data/Sales_Data/'+f)\n",
        "  all_months_data = pd.concat([all_months_data,df])"
      ],
      "execution_count": null,
      "outputs": []
    },
    {
      "cell_type": "code",
      "metadata": {
        "id": "5Y09Kkt9oryG"
      },
      "source": [
        "all_months_data.to_csv('all_data.csv',index=False)"
      ],
      "execution_count": null,
      "outputs": []
    },
    {
      "cell_type": "code",
      "metadata": {
        "id": "1A4YqVmBq4qA",
        "outputId": "e05c4c10-a5af-440e-91bd-bc68f1b6cd86",
        "colab": {
          "base_uri": "https://localhost:8080/",
          "height": 35
        }
      },
      "source": [
        "all_data = pd.read_csv('all_data.csv')\n",
        "all_data.shape"
      ],
      "execution_count": null,
      "outputs": [
        {
          "output_type": "execute_result",
          "data": {
            "text/plain": [
              "(186850, 6)"
            ]
          },
          "metadata": {
            "tags": []
          },
          "execution_count": 29
        }
      ]
    },
    {
      "cell_type": "code",
      "metadata": {
        "id": "qQkxhSNIrd3M",
        "outputId": "9183309e-3550-4d03-8613-c7f26245e888",
        "colab": {
          "base_uri": "https://localhost:8080/",
          "height": 202
        }
      },
      "source": [
        "all_data.head()"
      ],
      "execution_count": null,
      "outputs": [
        {
          "output_type": "execute_result",
          "data": {
            "text/html": [
              "<div>\n",
              "<style scoped>\n",
              "    .dataframe tbody tr th:only-of-type {\n",
              "        vertical-align: middle;\n",
              "    }\n",
              "\n",
              "    .dataframe tbody tr th {\n",
              "        vertical-align: top;\n",
              "    }\n",
              "\n",
              "    .dataframe thead th {\n",
              "        text-align: right;\n",
              "    }\n",
              "</style>\n",
              "<table border=\"1\" class=\"dataframe\">\n",
              "  <thead>\n",
              "    <tr style=\"text-align: right;\">\n",
              "      <th></th>\n",
              "      <th>Order ID</th>\n",
              "      <th>Product</th>\n",
              "      <th>Quantity Ordered</th>\n",
              "      <th>Price Each</th>\n",
              "      <th>Order Date</th>\n",
              "      <th>Purchase Address</th>\n",
              "    </tr>\n",
              "  </thead>\n",
              "  <tbody>\n",
              "    <tr>\n",
              "      <th>0</th>\n",
              "      <td>259358</td>\n",
              "      <td>34in Ultrawide Monitor</td>\n",
              "      <td>1</td>\n",
              "      <td>379.99</td>\n",
              "      <td>10/28/19 10:56</td>\n",
              "      <td>609 Cherry St, Dallas, TX 75001</td>\n",
              "    </tr>\n",
              "    <tr>\n",
              "      <th>1</th>\n",
              "      <td>259359</td>\n",
              "      <td>27in 4K Gaming Monitor</td>\n",
              "      <td>1</td>\n",
              "      <td>389.99</td>\n",
              "      <td>10/28/19 17:26</td>\n",
              "      <td>225 5th St, Los Angeles, CA 90001</td>\n",
              "    </tr>\n",
              "    <tr>\n",
              "      <th>2</th>\n",
              "      <td>259360</td>\n",
              "      <td>AAA Batteries (4-pack)</td>\n",
              "      <td>2</td>\n",
              "      <td>2.99</td>\n",
              "      <td>10/24/19 17:20</td>\n",
              "      <td>967 12th St, New York City, NY 10001</td>\n",
              "    </tr>\n",
              "    <tr>\n",
              "      <th>3</th>\n",
              "      <td>259361</td>\n",
              "      <td>27in FHD Monitor</td>\n",
              "      <td>1</td>\n",
              "      <td>149.99</td>\n",
              "      <td>10/14/19 22:26</td>\n",
              "      <td>628 Jefferson St, New York City, NY 10001</td>\n",
              "    </tr>\n",
              "    <tr>\n",
              "      <th>4</th>\n",
              "      <td>259362</td>\n",
              "      <td>Wired Headphones</td>\n",
              "      <td>1</td>\n",
              "      <td>11.99</td>\n",
              "      <td>10/07/19 16:10</td>\n",
              "      <td>534 14th St, Los Angeles, CA 90001</td>\n",
              "    </tr>\n",
              "  </tbody>\n",
              "</table>\n",
              "</div>"
            ],
            "text/plain": [
              "  Order ID  ...                           Purchase Address\n",
              "0   259358  ...            609 Cherry St, Dallas, TX 75001\n",
              "1   259359  ...          225 5th St, Los Angeles, CA 90001\n",
              "2   259360  ...       967 12th St, New York City, NY 10001\n",
              "3   259361  ...  628 Jefferson St, New York City, NY 10001\n",
              "4   259362  ...         534 14th St, Los Angeles, CA 90001\n",
              "\n",
              "[5 rows x 6 columns]"
            ]
          },
          "metadata": {
            "tags": []
          },
          "execution_count": 30
        }
      ]
    },
    {
      "cell_type": "code",
      "metadata": {
        "id": "mCXs0RTir70E",
        "outputId": "65ee79e5-6015-49af-a70c-0e2435c93800",
        "colab": {
          "base_uri": "https://localhost:8080/",
          "height": 171
        }
      },
      "source": [
        "all_data.describe()"
      ],
      "execution_count": null,
      "outputs": [
        {
          "output_type": "execute_result",
          "data": {
            "text/html": [
              "<div>\n",
              "<style scoped>\n",
              "    .dataframe tbody tr th:only-of-type {\n",
              "        vertical-align: middle;\n",
              "    }\n",
              "\n",
              "    .dataframe tbody tr th {\n",
              "        vertical-align: top;\n",
              "    }\n",
              "\n",
              "    .dataframe thead th {\n",
              "        text-align: right;\n",
              "    }\n",
              "</style>\n",
              "<table border=\"1\" class=\"dataframe\">\n",
              "  <thead>\n",
              "    <tr style=\"text-align: right;\">\n",
              "      <th></th>\n",
              "      <th>Order ID</th>\n",
              "      <th>Product</th>\n",
              "      <th>Quantity Ordered</th>\n",
              "      <th>Price Each</th>\n",
              "      <th>Order Date</th>\n",
              "      <th>Purchase Address</th>\n",
              "    </tr>\n",
              "  </thead>\n",
              "  <tbody>\n",
              "    <tr>\n",
              "      <th>count</th>\n",
              "      <td>186305</td>\n",
              "      <td>186305</td>\n",
              "      <td>186305</td>\n",
              "      <td>186305</td>\n",
              "      <td>186305</td>\n",
              "      <td>186305</td>\n",
              "    </tr>\n",
              "    <tr>\n",
              "      <th>unique</th>\n",
              "      <td>178438</td>\n",
              "      <td>20</td>\n",
              "      <td>10</td>\n",
              "      <td>24</td>\n",
              "      <td>142396</td>\n",
              "      <td>140788</td>\n",
              "    </tr>\n",
              "    <tr>\n",
              "      <th>top</th>\n",
              "      <td>Order ID</td>\n",
              "      <td>USB-C Charging Cable</td>\n",
              "      <td>1</td>\n",
              "      <td>11.95</td>\n",
              "      <td>Order Date</td>\n",
              "      <td>Purchase Address</td>\n",
              "    </tr>\n",
              "    <tr>\n",
              "      <th>freq</th>\n",
              "      <td>355</td>\n",
              "      <td>21903</td>\n",
              "      <td>168552</td>\n",
              "      <td>21903</td>\n",
              "      <td>355</td>\n",
              "      <td>355</td>\n",
              "    </tr>\n",
              "  </tbody>\n",
              "</table>\n",
              "</div>"
            ],
            "text/plain": [
              "        Order ID               Product  ...  Order Date  Purchase Address\n",
              "count     186305                186305  ...      186305            186305\n",
              "unique    178438                    20  ...      142396            140788\n",
              "top     Order ID  USB-C Charging Cable  ...  Order Date  Purchase Address\n",
              "freq         355                 21903  ...         355               355\n",
              "\n",
              "[4 rows x 6 columns]"
            ]
          },
          "metadata": {
            "tags": []
          },
          "execution_count": 31
        }
      ]
    },
    {
      "cell_type": "code",
      "metadata": {
        "id": "xGYxsLR9uF2s",
        "outputId": "bbce99aa-5921-4f6c-85d8-ce2495c533a2",
        "colab": {
          "base_uri": "https://localhost:8080/",
          "height": 243
        }
      },
      "source": [
        "all_data.info()"
      ],
      "execution_count": null,
      "outputs": [
        {
          "output_type": "stream",
          "text": [
            "<class 'pandas.core.frame.DataFrame'>\n",
            "RangeIndex: 186850 entries, 0 to 186849\n",
            "Data columns (total 6 columns):\n",
            " #   Column            Non-Null Count   Dtype \n",
            "---  ------            --------------   ----- \n",
            " 0   Order ID          186305 non-null  object\n",
            " 1   Product           186305 non-null  object\n",
            " 2   Quantity Ordered  186305 non-null  object\n",
            " 3   Price Each        186305 non-null  object\n",
            " 4   Order Date        186305 non-null  object\n",
            " 5   Purchase Address  186305 non-null  object\n",
            "dtypes: object(6)\n",
            "memory usage: 8.6+ MB\n"
          ],
          "name": "stdout"
        }
      ]
    },
    {
      "cell_type": "code",
      "metadata": {
        "id": "EvNoJFDSvzPw"
      },
      "source": [
        "all_data[all_data.isna().any(axis=1)]\n",
        "all_data = all_data.dropna(how='all')"
      ],
      "execution_count": null,
      "outputs": []
    },
    {
      "cell_type": "code",
      "metadata": {
        "id": "D6XG7yslwcDz"
      },
      "source": [
        "all_data = all_data[all_data['Order Date'].str[0:2] != 'Or']"
      ],
      "execution_count": null,
      "outputs": []
    },
    {
      "cell_type": "code",
      "metadata": {
        "id": "Wd7G2VFVy0VN"
      },
      "source": [
        "all_data['Month'] = all_data['Order Date'].str[0:2].astype('int32')"
      ],
      "execution_count": null,
      "outputs": []
    },
    {
      "cell_type": "code",
      "metadata": {
        "id": "XTeczgd_0F3o",
        "outputId": "ab4c5892-952e-4dea-faa0-1e7bf27b22cb",
        "colab": {
          "base_uri": "https://localhost:8080/",
          "height": 202
        }
      },
      "source": [
        "all_data.head()"
      ],
      "execution_count": null,
      "outputs": [
        {
          "output_type": "execute_result",
          "data": {
            "text/html": [
              "<div>\n",
              "<style scoped>\n",
              "    .dataframe tbody tr th:only-of-type {\n",
              "        vertical-align: middle;\n",
              "    }\n",
              "\n",
              "    .dataframe tbody tr th {\n",
              "        vertical-align: top;\n",
              "    }\n",
              "\n",
              "    .dataframe thead th {\n",
              "        text-align: right;\n",
              "    }\n",
              "</style>\n",
              "<table border=\"1\" class=\"dataframe\">\n",
              "  <thead>\n",
              "    <tr style=\"text-align: right;\">\n",
              "      <th></th>\n",
              "      <th>Order ID</th>\n",
              "      <th>Product</th>\n",
              "      <th>Quantity Ordered</th>\n",
              "      <th>Price Each</th>\n",
              "      <th>Order Date</th>\n",
              "      <th>Purchase Address</th>\n",
              "      <th>Month</th>\n",
              "    </tr>\n",
              "  </thead>\n",
              "  <tbody>\n",
              "    <tr>\n",
              "      <th>0</th>\n",
              "      <td>259358</td>\n",
              "      <td>34in Ultrawide Monitor</td>\n",
              "      <td>1</td>\n",
              "      <td>379.99</td>\n",
              "      <td>10/28/19 10:56</td>\n",
              "      <td>609 Cherry St, Dallas, TX 75001</td>\n",
              "      <td>10</td>\n",
              "    </tr>\n",
              "    <tr>\n",
              "      <th>1</th>\n",
              "      <td>259359</td>\n",
              "      <td>27in 4K Gaming Monitor</td>\n",
              "      <td>1</td>\n",
              "      <td>389.99</td>\n",
              "      <td>10/28/19 17:26</td>\n",
              "      <td>225 5th St, Los Angeles, CA 90001</td>\n",
              "      <td>10</td>\n",
              "    </tr>\n",
              "    <tr>\n",
              "      <th>2</th>\n",
              "      <td>259360</td>\n",
              "      <td>AAA Batteries (4-pack)</td>\n",
              "      <td>2</td>\n",
              "      <td>2.99</td>\n",
              "      <td>10/24/19 17:20</td>\n",
              "      <td>967 12th St, New York City, NY 10001</td>\n",
              "      <td>10</td>\n",
              "    </tr>\n",
              "    <tr>\n",
              "      <th>3</th>\n",
              "      <td>259361</td>\n",
              "      <td>27in FHD Monitor</td>\n",
              "      <td>1</td>\n",
              "      <td>149.99</td>\n",
              "      <td>10/14/19 22:26</td>\n",
              "      <td>628 Jefferson St, New York City, NY 10001</td>\n",
              "      <td>10</td>\n",
              "    </tr>\n",
              "    <tr>\n",
              "      <th>4</th>\n",
              "      <td>259362</td>\n",
              "      <td>Wired Headphones</td>\n",
              "      <td>1</td>\n",
              "      <td>11.99</td>\n",
              "      <td>10/07/19 16:10</td>\n",
              "      <td>534 14th St, Los Angeles, CA 90001</td>\n",
              "      <td>10</td>\n",
              "    </tr>\n",
              "  </tbody>\n",
              "</table>\n",
              "</div>"
            ],
            "text/plain": [
              "  Order ID  ... Month\n",
              "0   259358  ...    10\n",
              "1   259359  ...    10\n",
              "2   259360  ...    10\n",
              "3   259361  ...    10\n",
              "4   259362  ...    10\n",
              "\n",
              "[5 rows x 7 columns]"
            ]
          },
          "metadata": {
            "tags": []
          },
          "execution_count": 36
        }
      ]
    },
    {
      "cell_type": "code",
      "metadata": {
        "id": "nmYDEFM50O4q"
      },
      "source": [
        "all_data['Quantity Ordered'] = pd.to_numeric(all_data['Quantity Ordered'])"
      ],
      "execution_count": null,
      "outputs": []
    },
    {
      "cell_type": "code",
      "metadata": {
        "id": "VOODdBSYPy6e"
      },
      "source": [
        "all_data['Price Each'] = pd.to_numeric(all_data['Price Each'])"
      ],
      "execution_count": null,
      "outputs": []
    },
    {
      "cell_type": "code",
      "metadata": {
        "id": "WciJZfm4P3XZ"
      },
      "source": [
        "all_data['Sales'] = all_data['Quantity Ordered'] * all_data['Price Each']"
      ],
      "execution_count": null,
      "outputs": []
    },
    {
      "cell_type": "code",
      "metadata": {
        "id": "UzsHohCXP92x"
      },
      "source": [
        "sales_by_month = all_data.groupby('Month').sum()"
      ],
      "execution_count": null,
      "outputs": []
    },
    {
      "cell_type": "code",
      "metadata": {
        "id": "9RIV1aZpQDr1",
        "outputId": "988673ae-995e-4d60-d472-e0a3ba4755ec",
        "colab": {
          "base_uri": "https://localhost:8080/",
          "height": 290
        }
      },
      "source": [
        "import matplotlib.pyplot as plt\n",
        "months = range(1,13,1)\n",
        "plt.bar(months,sales_by_month['Sales'])\n",
        "plt.xticks(months)\n",
        "plt.xlabel('Months')\n",
        "plt.ylabel('Sales')\n",
        "plt.show()"
      ],
      "execution_count": null,
      "outputs": [
        {
          "output_type": "display_data",
          "data": {
            "image/png": "[encoded data removed]",
            "text/plain": [
              "<Figure size 432x288 with 1 Axes>"
            ]
          },
          "metadata": {
            "tags": [],
            "needs_background": "light"
          }
        }
      ]
    },
    {
      "cell_type": "code",
      "metadata": {
        "id": "LxCjeS4MRY0o",
        "outputId": "78ad9f8f-ad59-43c2-c285-2de2b5284e7e",
        "colab": {
          "base_uri": "https://localhost:8080/",
          "height": 225
        }
      },
      "source": [
        "all_data['Purchase Address']"
      ],
      "execution_count": null,
      "outputs": [
        {
          "output_type": "execute_result",
          "data": {
            "text/plain": [
              "0                   609 Cherry St, Dallas, TX 75001\n",
              "1                 225 5th St, Los Angeles, CA 90001\n",
              "2              967 12th St, New York City, NY 10001\n",
              "3         628 Jefferson St, New York City, NY 10001\n",
              "4                534 14th St, Los Angeles, CA 90001\n",
              "                            ...                    \n",
              "186845      868 Hickory St, San Francisco, CA 94016\n",
              "186846            206 Lakeview St, Boston, MA 02215\n",
              "186847               568 13th St, Seattle, WA 98101\n",
              "186848       495 Walnut St, San Francisco, CA 94016\n",
              "186849           738 Park St, Los Angeles, CA 90001\n",
              "Name: Purchase Address, Length: 185950, dtype: object"
            ]
          },
          "metadata": {
            "tags": []
          },
          "execution_count": 47
        }
      ]
    },
    {
      "cell_type": "code",
      "metadata": {
        "id": "rYpzD-G1R_be"
      },
      "source": [
        "def get_city(address):\n",
        "  return address.split(',')[1]\n",
        "def get_state(address):\n",
        "  return address.split(',')[2].split(' ')[1]"
      ],
      "execution_count": null,
      "outputs": []
    },
    {
      "cell_type": "code",
      "metadata": {
        "id": "5HYRh2V_VMwa",
        "outputId": "e61e8f2d-addf-46dc-c18b-0ef5b777844e",
        "colab": {
          "base_uri": "https://localhost:8080/",
          "height": 202
        }
      },
      "source": [
        "all_data['City'] = all_data['Purchase Address'].apply(lambda x : f'{get_city(x)} ({get_state(x)})')\n",
        "all_data.head()"
      ],
      "execution_count": null,
      "outputs": [
        {
          "output_type": "execute_result",
          "data": {
            "text/html": [
              "<div>\n",
              "<style scoped>\n",
              "    .dataframe tbody tr th:only-of-type {\n",
              "        vertical-align: middle;\n",
              "    }\n",
              "\n",
              "    .dataframe tbody tr th {\n",
              "        vertical-align: top;\n",
              "    }\n",
              "\n",
              "    .dataframe thead th {\n",
              "        text-align: right;\n",
              "    }\n",
              "</style>\n",
              "<table border=\"1\" class=\"dataframe\">\n",
              "  <thead>\n",
              "    <tr style=\"text-align: right;\">\n",
              "      <th></th>\n",
              "      <th>Order ID</th>\n",
              "      <th>Product</th>\n",
              "      <th>Quantity Ordered</th>\n",
              "      <th>Price Each</th>\n",
              "      <th>Order Date</th>\n",
              "      <th>Purchase Address</th>\n",
              "      <th>Month</th>\n",
              "      <th>Sales</th>\n",
              "      <th>City</th>\n",
              "    </tr>\n",
              "  </thead>\n",
              "  <tbody>\n",
              "    <tr>\n",
              "      <th>0</th>\n",
              "      <td>259358</td>\n",
              "      <td>34in Ultrawide Monitor</td>\n",
              "      <td>1</td>\n",
              "      <td>379.99</td>\n",
              "      <td>10/28/19 10:56</td>\n",
              "      <td>609 Cherry St, Dallas, TX 75001</td>\n",
              "      <td>10</td>\n",
              "      <td>379.99</td>\n",
              "      <td>Dallas (TX)</td>\n",
              "    </tr>\n",
              "    <tr>\n",
              "      <th>1</th>\n",
              "      <td>259359</td>\n",
              "      <td>27in 4K Gaming Monitor</td>\n",
              "      <td>1</td>\n",
              "      <td>389.99</td>\n",
              "      <td>10/28/19 17:26</td>\n",
              "      <td>225 5th St, Los Angeles, CA 90001</td>\n",
              "      <td>10</td>\n",
              "      <td>389.99</td>\n",
              "      <td>Los Angeles (CA)</td>\n",
              "    </tr>\n",
              "    <tr>\n",
              "      <th>2</th>\n",
              "      <td>259360</td>\n",
              "      <td>AAA Batteries (4-pack)</td>\n",
              "      <td>2</td>\n",
              "      <td>2.99</td>\n",
              "      <td>10/24/19 17:20</td>\n",
              "      <td>967 12th St, New York City, NY 10001</td>\n",
              "      <td>10</td>\n",
              "      <td>5.98</td>\n",
              "      <td>New York City (NY)</td>\n",
              "    </tr>\n",
              "    <tr>\n",
              "      <th>3</th>\n",
              "      <td>259361</td>\n",
              "      <td>27in FHD Monitor</td>\n",
              "      <td>1</td>\n",
              "      <td>149.99</td>\n",
              "      <td>10/14/19 22:26</td>\n",
              "      <td>628 Jefferson St, New York City, NY 10001</td>\n",
              "      <td>10</td>\n",
              "      <td>149.99</td>\n",
              "      <td>New York City (NY)</td>\n",
              "    </tr>\n",
              "    <tr>\n",
              "      <th>4</th>\n",
              "      <td>259362</td>\n",
              "      <td>Wired Headphones</td>\n",
              "      <td>1</td>\n",
              "      <td>11.99</td>\n",
              "      <td>10/07/19 16:10</td>\n",
              "      <td>534 14th St, Los Angeles, CA 90001</td>\n",
              "      <td>10</td>\n",
              "      <td>11.99</td>\n",
              "      <td>Los Angeles (CA)</td>\n",
              "    </tr>\n",
              "  </tbody>\n",
              "</table>\n",
              "</div>"
            ],
            "text/plain": [
              "  Order ID                 Product  ...   Sales                 City\n",
              "0   259358  34in Ultrawide Monitor  ...  379.99          Dallas (TX)\n",
              "1   259359  27in 4K Gaming Monitor  ...  389.99     Los Angeles (CA)\n",
              "2   259360  AAA Batteries (4-pack)  ...    5.98   New York City (NY)\n",
              "3   259361        27in FHD Monitor  ...  149.99   New York City (NY)\n",
              "4   259362        Wired Headphones  ...   11.99     Los Angeles (CA)\n",
              "\n",
              "[5 rows x 9 columns]"
            ]
          },
          "metadata": {
            "tags": []
          },
          "execution_count": 58
        }
      ]
    },
    {
      "cell_type": "code",
      "metadata": {
        "id": "nv9kZl-eVdku",
        "outputId": "fbc85b3d-3f6f-4030-953f-88db0160b3b0",
        "colab": {
          "base_uri": "https://localhost:8080/",
          "height": 233
        }
      },
      "source": [
        "sales_by_city = all_data.groupby('City').sum()\n",
        "sales_by_city.head()"
      ],
      "execution_count": null,
      "outputs": [
        {
          "output_type": "execute_result",
          "data": {
            "text/html": [
              "<div>\n",
              "<style scoped>\n",
              "    .dataframe tbody tr th:only-of-type {\n",
              "        vertical-align: middle;\n",
              "    }\n",
              "\n",
              "    .dataframe tbody tr th {\n",
              "        vertical-align: top;\n",
              "    }\n",
              "\n",
              "    .dataframe thead th {\n",
              "        text-align: right;\n",
              "    }\n",
              "</style>\n",
              "<table border=\"1\" class=\"dataframe\">\n",
              "  <thead>\n",
              "    <tr style=\"text-align: right;\">\n",
              "      <th></th>\n",
              "      <th>Quantity Ordered</th>\n",
              "      <th>Price Each</th>\n",
              "      <th>Month</th>\n",
              "      <th>Sales</th>\n",
              "    </tr>\n",
              "    <tr>\n",
              "      <th>City</th>\n",
              "      <th></th>\n",
              "      <th></th>\n",
              "      <th></th>\n",
              "      <th></th>\n",
              "    </tr>\n",
              "  </thead>\n",
              "  <tbody>\n",
              "    <tr>\n",
              "      <th>Atlanta (GA)</th>\n",
              "      <td>16602</td>\n",
              "      <td>2.779908e+06</td>\n",
              "      <td>104794</td>\n",
              "      <td>2.795499e+06</td>\n",
              "    </tr>\n",
              "    <tr>\n",
              "      <th>Austin (TX)</th>\n",
              "      <td>11153</td>\n",
              "      <td>1.809874e+06</td>\n",
              "      <td>69829</td>\n",
              "      <td>1.819582e+06</td>\n",
              "    </tr>\n",
              "    <tr>\n",
              "      <th>Boston (MA)</th>\n",
              "      <td>22528</td>\n",
              "      <td>3.637410e+06</td>\n",
              "      <td>141112</td>\n",
              "      <td>3.661642e+06</td>\n",
              "    </tr>\n",
              "    <tr>\n",
              "      <th>Dallas (TX)</th>\n",
              "      <td>16730</td>\n",
              "      <td>2.752628e+06</td>\n",
              "      <td>104620</td>\n",
              "      <td>2.767975e+06</td>\n",
              "    </tr>\n",
              "    <tr>\n",
              "      <th>Los Angeles (CA)</th>\n",
              "      <td>33289</td>\n",
              "      <td>5.421435e+06</td>\n",
              "      <td>208325</td>\n",
              "      <td>5.452571e+06</td>\n",
              "    </tr>\n",
              "  </tbody>\n",
              "</table>\n",
              "</div>"
            ],
            "text/plain": [
              "                   Quantity Ordered    Price Each   Month         Sales\n",
              "City                                                                   \n",
              " Atlanta (GA)                 16602  2.779908e+06  104794  2.795499e+06\n",
              " Austin (TX)                  11153  1.809874e+06   69829  1.819582e+06\n",
              " Boston (MA)                  22528  3.637410e+06  141112  3.661642e+06\n",
              " Dallas (TX)                  16730  2.752628e+06  104620  2.767975e+06\n",
              " Los Angeles (CA)             33289  5.421435e+06  208325  5.452571e+06"
            ]
          },
          "metadata": {
            "tags": []
          },
          "execution_count": 62
        }
      ]
    },
    {
      "cell_type": "code",
      "metadata": {
        "id": "lniiFH9bXw8t",
        "outputId": "b2412eab-0d5e-49bd-8833-5ff03e453bbd",
        "colab": {
          "base_uri": "https://localhost:8080/",
          "height": 225
        }
      },
      "source": [
        "sales_by_city['Sales']"
      ],
      "execution_count": null,
      "outputs": [
        {
          "output_type": "execute_result",
          "data": {
            "text/plain": [
              "City\n",
              " Atlanta (GA)          2.795499e+06\n",
              " Austin (TX)           1.819582e+06\n",
              " Boston (MA)           3.661642e+06\n",
              " Dallas (TX)           2.767975e+06\n",
              " Los Angeles (CA)      5.452571e+06\n",
              " New York City (NY)    4.664317e+06\n",
              " Portland (ME)         4.497583e+05\n",
              " Portland (OR)         1.870732e+06\n",
              " San Francisco (CA)    8.262204e+06\n",
              " Seattle (WA)          2.747755e+06\n",
              "Name: Sales, dtype: float64"
            ]
          },
          "metadata": {
            "tags": []
          },
          "execution_count": 67
        }
      ]
    },
    {
      "cell_type": "code",
      "metadata": {
        "id": "EQKBYFb3ZcnD"
      },
      "source": [
        "cities = [city for city,df in all_data.groupby('City')]"
      ],
      "execution_count": null,
      "outputs": []
    },
    {
      "cell_type": "code",
      "metadata": {
        "id": "z5n2KedVarOH",
        "outputId": "28a63b1a-6946-4821-dc2f-fb2a5c24d017",
        "colab": {
          "base_uri": "https://localhost:8080/",
          "height": 377
        }
      },
      "source": [
        "plt.bar(cities,sales_by_city['Sales'])\n",
        "plt.xticks(cities,rotation='vertical')\n",
        "plt.xlabel('Cities')\n",
        "plt.ylabel('Sales')\n",
        "plt.show()"
      ],
      "execution_count": null,
      "outputs": [
        {
          "output_type": "display_data",
          "data": {
            "image/png": "[encoded data removed]",
            "text/plain": [
              "<Figure size 432x288 with 1 Axes>"
            ]
          },
          "metadata": {
            "tags": [],
            "needs_background": "light"
          }
        }
      ]
    },
    {
      "cell_type": "code",
      "metadata": {
        "id": "4iFe1eIqbNgU",
        "outputId": "850d840a-56e9-47f4-9d75-f8e11bc7a6a9",
        "colab": {
          "base_uri": "https://localhost:8080/",
          "height": 237
        }
      },
      "source": [
        "all_data['Order Date'] = pd.to_datetime(all_data['Order Date'])\n",
        "all_data.head()"
      ],
      "execution_count": null,
      "outputs": [
        {
          "output_type": "execute_result",
          "data": {
            "text/html": [
              "<div>\n",
              "<style scoped>\n",
              "    .dataframe tbody tr th:only-of-type {\n",
              "        vertical-align: middle;\n",
              "    }\n",
              "\n",
              "    .dataframe tbody tr th {\n",
              "        vertical-align: top;\n",
              "    }\n",
              "\n",
              "    .dataframe thead th {\n",
              "        text-align: right;\n",
              "    }\n",
              "</style>\n",
              "<table border=\"1\" class=\"dataframe\">\n",
              "  <thead>\n",
              "    <tr style=\"text-align: right;\">\n",
              "      <th></th>\n",
              "      <th>Order ID</th>\n",
              "      <th>Product</th>\n",
              "      <th>Quantity Ordered</th>\n",
              "      <th>Price Each</th>\n",
              "      <th>Order Date</th>\n",
              "      <th>Purchase Address</th>\n",
              "      <th>Month</th>\n",
              "      <th>Sales</th>\n",
              "      <th>City</th>\n",
              "    </tr>\n",
              "  </thead>\n",
              "  <tbody>\n",
              "    <tr>\n",
              "      <th>0</th>\n",
              "      <td>259358</td>\n",
              "      <td>34in Ultrawide Monitor</td>\n",
              "      <td>1</td>\n",
              "      <td>379.99</td>\n",
              "      <td>2019-10-28 10:56:00</td>\n",
              "      <td>609 Cherry St, Dallas, TX 75001</td>\n",
              "      <td>10</td>\n",
              "      <td>379.99</td>\n",
              "      <td>Dallas (TX)</td>\n",
              "    </tr>\n",
              "    <tr>\n",
              "      <th>1</th>\n",
              "      <td>259359</td>\n",
              "      <td>27in 4K Gaming Monitor</td>\n",
              "      <td>1</td>\n",
              "      <td>389.99</td>\n",
              "      <td>2019-10-28 17:26:00</td>\n",
              "      <td>225 5th St, Los Angeles, CA 90001</td>\n",
              "      <td>10</td>\n",
              "      <td>389.99</td>\n",
              "      <td>Los Angeles (CA)</td>\n",
              "    </tr>\n",
              "    <tr>\n",
              "      <th>2</th>\n",
              "      <td>259360</td>\n",
              "      <td>AAA Batteries (4-pack)</td>\n",
              "      <td>2</td>\n",
              "      <td>2.99</td>\n",
              "      <td>2019-10-24 17:20:00</td>\n",
              "      <td>967 12th St, New York City, NY 10001</td>\n",
              "      <td>10</td>\n",
              "      <td>5.98</td>\n",
              "      <td>New York City (NY)</td>\n",
              "    </tr>\n",
              "    <tr>\n",
              "      <th>3</th>\n",
              "      <td>259361</td>\n",
              "      <td>27in FHD Monitor</td>\n",
              "      <td>1</td>\n",
              "      <td>149.99</td>\n",
              "      <td>2019-10-14 22:26:00</td>\n",
              "      <td>628 Jefferson St, New York City, NY 10001</td>\n",
              "      <td>10</td>\n",
              "      <td>149.99</td>\n",
              "      <td>New York City (NY)</td>\n",
              "    </tr>\n",
              "    <tr>\n",
              "      <th>4</th>\n",
              "      <td>259362</td>\n",
              "      <td>Wired Headphones</td>\n",
              "      <td>1</td>\n",
              "      <td>11.99</td>\n",
              "      <td>2019-10-07 16:10:00</td>\n",
              "      <td>534 14th St, Los Angeles, CA 90001</td>\n",
              "      <td>10</td>\n",
              "      <td>11.99</td>\n",
              "      <td>Los Angeles (CA)</td>\n",
              "    </tr>\n",
              "  </tbody>\n",
              "</table>\n",
              "</div>"
            ],
            "text/plain": [
              "  Order ID                 Product  ...   Sales                 City\n",
              "0   259358  34in Ultrawide Monitor  ...  379.99          Dallas (TX)\n",
              "1   259359  27in 4K Gaming Monitor  ...  389.99     Los Angeles (CA)\n",
              "2   259360  AAA Batteries (4-pack)  ...    5.98   New York City (NY)\n",
              "3   259361        27in FHD Monitor  ...  149.99   New York City (NY)\n",
              "4   259362        Wired Headphones  ...   11.99     Los Angeles (CA)\n",
              "\n",
              "[5 rows x 9 columns]"
            ]
          },
          "metadata": {
            "tags": []
          },
          "execution_count": 73
        }
      ]
    },
    {
      "cell_type": "code",
      "metadata": {
        "id": "pk6Vs5qtedHb"
      },
      "source": [
        "all_data['Hour'] = all_data['Order Date'].dt.hour\n",
        "all_data['Minute'] = all_data['Order Date'].dt.minute"
      ],
      "execution_count": null,
      "outputs": []
    },
    {
      "cell_type": "code",
      "metadata": {
        "id": "QsBliCazelwJ",
        "outputId": "b73ef6fc-327c-44a3-da04-36c898a31990",
        "colab": {
          "base_uri": "https://localhost:8080/",
          "height": 306
        }
      },
      "source": [
        "all_data.head()"
      ],
      "execution_count": null,
      "outputs": [
        {
          "output_type": "execute_result",
          "data": {
            "text/html": [
              "<div>\n",
              "<style scoped>\n",
              "    .dataframe tbody tr th:only-of-type {\n",
              "        vertical-align: middle;\n",
              "    }\n",
              "\n",
              "    .dataframe tbody tr th {\n",
              "        vertical-align: top;\n",
              "    }\n",
              "\n",
              "    .dataframe thead th {\n",
              "        text-align: right;\n",
              "    }\n",
              "</style>\n",
              "<table border=\"1\" class=\"dataframe\">\n",
              "  <thead>\n",
              "    <tr style=\"text-align: right;\">\n",
              "      <th></th>\n",
              "      <th>Order ID</th>\n",
              "      <th>Product</th>\n",
              "      <th>Quantity Ordered</th>\n",
              "      <th>Price Each</th>\n",
              "      <th>Order Date</th>\n",
              "      <th>Purchase Address</th>\n",
              "      <th>Month</th>\n",
              "      <th>Sales</th>\n",
              "      <th>City</th>\n",
              "      <th>Hour</th>\n",
              "      <th>Minute</th>\n",
              "    </tr>\n",
              "  </thead>\n",
              "  <tbody>\n",
              "    <tr>\n",
              "      <th>0</th>\n",
              "      <td>259358</td>\n",
              "      <td>34in Ultrawide Monitor</td>\n",
              "      <td>1</td>\n",
              "      <td>379.99</td>\n",
              "      <td>2019-10-28 10:56:00</td>\n",
              "      <td>609 Cherry St, Dallas, TX 75001</td>\n",
              "      <td>10</td>\n",
              "      <td>379.99</td>\n",
              "      <td>Dallas (TX)</td>\n",
              "      <td>10</td>\n",
              "      <td>56</td>\n",
              "    </tr>\n",
              "    <tr>\n",
              "      <th>1</th>\n",
              "      <td>259359</td>\n",
              "      <td>27in 4K Gaming Monitor</td>\n",
              "      <td>1</td>\n",
              "      <td>389.99</td>\n",
              "      <td>2019-10-28 17:26:00</td>\n",
              "      <td>225 5th St, Los Angeles, CA 90001</td>\n",
              "      <td>10</td>\n",
              "      <td>389.99</td>\n",
              "      <td>Los Angeles (CA)</td>\n",
              "      <td>17</td>\n",
              "      <td>26</td>\n",
              "    </tr>\n",
              "    <tr>\n",
              "      <th>2</th>\n",
              "      <td>259360</td>\n",
              "      <td>AAA Batteries (4-pack)</td>\n",
              "      <td>2</td>\n",
              "      <td>2.99</td>\n",
              "      <td>2019-10-24 17:20:00</td>\n",
              "      <td>967 12th St, New York City, NY 10001</td>\n",
              "      <td>10</td>\n",
              "      <td>5.98</td>\n",
              "      <td>New York City (NY)</td>\n",
              "      <td>17</td>\n",
              "      <td>20</td>\n",
              "    </tr>\n",
              "    <tr>\n",
              "      <th>3</th>\n",
              "      <td>259361</td>\n",
              "      <td>27in FHD Monitor</td>\n",
              "      <td>1</td>\n",
              "      <td>149.99</td>\n",
              "      <td>2019-10-14 22:26:00</td>\n",
              "      <td>628 Jefferson St, New York City, NY 10001</td>\n",
              "      <td>10</td>\n",
              "      <td>149.99</td>\n",
              "      <td>New York City (NY)</td>\n",
              "      <td>22</td>\n",
              "      <td>26</td>\n",
              "    </tr>\n",
              "    <tr>\n",
              "      <th>4</th>\n",
              "      <td>259362</td>\n",
              "      <td>Wired Headphones</td>\n",
              "      <td>1</td>\n",
              "      <td>11.99</td>\n",
              "      <td>2019-10-07 16:10:00</td>\n",
              "      <td>534 14th St, Los Angeles, CA 90001</td>\n",
              "      <td>10</td>\n",
              "      <td>11.99</td>\n",
              "      <td>Los Angeles (CA)</td>\n",
              "      <td>16</td>\n",
              "      <td>10</td>\n",
              "    </tr>\n",
              "  </tbody>\n",
              "</table>\n",
              "</div>"
            ],
            "text/plain": [
              "  Order ID                 Product  ...  Hour  Minute\n",
              "0   259358  34in Ultrawide Monitor  ...    10      56\n",
              "1   259359  27in 4K Gaming Monitor  ...    17      26\n",
              "2   259360  AAA Batteries (4-pack)  ...    17      20\n",
              "3   259361        27in FHD Monitor  ...    22      26\n",
              "4   259362        Wired Headphones  ...    16      10\n",
              "\n",
              "[5 rows x 11 columns]"
            ]
          },
          "metadata": {
            "tags": []
          },
          "execution_count": 78
        }
      ]
    },
    {
      "cell_type": "code",
      "metadata": {
        "id": "L45xU_oefFnB"
      },
      "source": [
        "hours = [hour for hour,df in all_data.groupby(['Hour'])]"
      ],
      "execution_count": null,
      "outputs": []
    },
    {
      "cell_type": "code",
      "metadata": {
        "id": "IEsr095FnsIS",
        "outputId": "669c6048-19c7-450e-8894-34ce96e4f7f1",
        "colab": {
          "base_uri": "https://localhost:8080/",
          "height": 815
        }
      },
      "source": [
        "all_data.groupby(['Hour']).count()"
      ],
      "execution_count": null,
      "outputs": [
        {
          "output_type": "execute_result",
          "data": {
            "text/html": [
              "<div>\n",
              "<style scoped>\n",
              "    .dataframe tbody tr th:only-of-type {\n",
              "        vertical-align: middle;\n",
              "    }\n",
              "\n",
              "    .dataframe tbody tr th {\n",
              "        vertical-align: top;\n",
              "    }\n",
              "\n",
              "    .dataframe thead th {\n",
              "        text-align: right;\n",
              "    }\n",
              "</style>\n",
              "<table border=\"1\" class=\"dataframe\">\n",
              "  <thead>\n",
              "    <tr style=\"text-align: right;\">\n",
              "      <th></th>\n",
              "      <th>Order ID</th>\n",
              "      <th>Product</th>\n",
              "      <th>Quantity Ordered</th>\n",
              "      <th>Price Each</th>\n",
              "      <th>Order Date</th>\n",
              "      <th>Purchase Address</th>\n",
              "      <th>Month</th>\n",
              "      <th>Sales</th>\n",
              "      <th>City</th>\n",
              "      <th>Minute</th>\n",
              "    </tr>\n",
              "    <tr>\n",
              "      <th>Hour</th>\n",
              "      <th></th>\n",
              "      <th></th>\n",
              "      <th></th>\n",
              "      <th></th>\n",
              "      <th></th>\n",
              "      <th></th>\n",
              "      <th></th>\n",
              "      <th></th>\n",
              "      <th></th>\n",
              "      <th></th>\n",
              "    </tr>\n",
              "  </thead>\n",
              "  <tbody>\n",
              "    <tr>\n",
              "      <th>0</th>\n",
              "      <td>3910</td>\n",
              "      <td>3910</td>\n",
              "      <td>3910</td>\n",
              "      <td>3910</td>\n",
              "      <td>3910</td>\n",
              "      <td>3910</td>\n",
              "      <td>3910</td>\n",
              "      <td>3910</td>\n",
              "      <td>3910</td>\n",
              "      <td>3910</td>\n",
              "    </tr>\n",
              "    <tr>\n",
              "      <th>1</th>\n",
              "      <td>2350</td>\n",
              "      <td>2350</td>\n",
              "      <td>2350</td>\n",
              "      <td>2350</td>\n",
              "      <td>2350</td>\n",
              "      <td>2350</td>\n",
              "      <td>2350</td>\n",
              "      <td>2350</td>\n",
              "      <td>2350</td>\n",
              "      <td>2350</td>\n",
              "    </tr>\n",
              "    <tr>\n",
              "      <th>2</th>\n",
              "      <td>1243</td>\n",
              "      <td>1243</td>\n",
              "      <td>1243</td>\n",
              "      <td>1243</td>\n",
              "      <td>1243</td>\n",
              "      <td>1243</td>\n",
              "      <td>1243</td>\n",
              "      <td>1243</td>\n",
              "      <td>1243</td>\n",
              "      <td>1243</td>\n",
              "    </tr>\n",
              "    <tr>\n",
              "      <th>3</th>\n",
              "      <td>831</td>\n",
              "      <td>831</td>\n",
              "      <td>831</td>\n",
              "      <td>831</td>\n",
              "      <td>831</td>\n",
              "      <td>831</td>\n",
              "      <td>831</td>\n",
              "      <td>831</td>\n",
              "      <td>831</td>\n",
              "      <td>831</td>\n",
              "    </tr>\n",
              "    <tr>\n",
              "      <th>4</th>\n",
              "      <td>854</td>\n",
              "      <td>854</td>\n",
              "      <td>854</td>\n",
              "      <td>854</td>\n",
              "      <td>854</td>\n",
              "      <td>854</td>\n",
              "      <td>854</td>\n",
              "      <td>854</td>\n",
              "      <td>854</td>\n",
              "      <td>854</td>\n",
              "    </tr>\n",
              "    <tr>\n",
              "      <th>5</th>\n",
              "      <td>1321</td>\n",
              "      <td>1321</td>\n",
              "      <td>1321</td>\n",
              "      <td>1321</td>\n",
              "      <td>1321</td>\n",
              "      <td>1321</td>\n",
              "      <td>1321</td>\n",
              "      <td>1321</td>\n",
              "      <td>1321</td>\n",
              "      <td>1321</td>\n",
              "    </tr>\n",
              "    <tr>\n",
              "      <th>6</th>\n",
              "      <td>2482</td>\n",
              "      <td>2482</td>\n",
              "      <td>2482</td>\n",
              "      <td>2482</td>\n",
              "      <td>2482</td>\n",
              "      <td>2482</td>\n",
              "      <td>2482</td>\n",
              "      <td>2482</td>\n",
              "      <td>2482</td>\n",
              "      <td>2482</td>\n",
              "    </tr>\n",
              "    <tr>\n",
              "      <th>7</th>\n",
              "      <td>4011</td>\n",
              "      <td>4011</td>\n",
              "      <td>4011</td>\n",
              "      <td>4011</td>\n",
              "      <td>4011</td>\n",
              "      <td>4011</td>\n",
              "      <td>4011</td>\n",
              "      <td>4011</td>\n",
              "      <td>4011</td>\n",
              "      <td>4011</td>\n",
              "    </tr>\n",
              "    <tr>\n",
              "      <th>8</th>\n",
              "      <td>6256</td>\n",
              "      <td>6256</td>\n",
              "      <td>6256</td>\n",
              "      <td>6256</td>\n",
              "      <td>6256</td>\n",
              "      <td>6256</td>\n",
              "      <td>6256</td>\n",
              "      <td>6256</td>\n",
              "      <td>6256</td>\n",
              "      <td>6256</td>\n",
              "    </tr>\n",
              "    <tr>\n",
              "      <th>9</th>\n",
              "      <td>8748</td>\n",
              "      <td>8748</td>\n",
              "      <td>8748</td>\n",
              "      <td>8748</td>\n",
              "      <td>8748</td>\n",
              "      <td>8748</td>\n",
              "      <td>8748</td>\n",
              "      <td>8748</td>\n",
              "      <td>8748</td>\n",
              "      <td>8748</td>\n",
              "    </tr>\n",
              "    <tr>\n",
              "      <th>10</th>\n",
              "      <td>10944</td>\n",
              "      <td>10944</td>\n",
              "      <td>10944</td>\n",
              "      <td>10944</td>\n",
              "      <td>10944</td>\n",
              "      <td>10944</td>\n",
              "      <td>10944</td>\n",
              "      <td>10944</td>\n",
              "      <td>10944</td>\n",
              "      <td>10944</td>\n",
              "    </tr>\n",
              "    <tr>\n",
              "      <th>11</th>\n",
              "      <td>12411</td>\n",
              "      <td>12411</td>\n",
              "      <td>12411</td>\n",
              "      <td>12411</td>\n",
              "      <td>12411</td>\n",
              "      <td>12411</td>\n",
              "      <td>12411</td>\n",
              "      <td>12411</td>\n",
              "      <td>12411</td>\n",
              "      <td>12411</td>\n",
              "    </tr>\n",
              "    <tr>\n",
              "      <th>12</th>\n",
              "      <td>12587</td>\n",
              "      <td>12587</td>\n",
              "      <td>12587</td>\n",
              "      <td>12587</td>\n",
              "      <td>12587</td>\n",
              "      <td>12587</td>\n",
              "      <td>12587</td>\n",
              "      <td>12587</td>\n",
              "      <td>12587</td>\n",
              "      <td>12587</td>\n",
              "    </tr>\n",
              "    <tr>\n",
              "      <th>13</th>\n",
              "      <td>12129</td>\n",
              "      <td>12129</td>\n",
              "      <td>12129</td>\n",
              "      <td>12129</td>\n",
              "      <td>12129</td>\n",
              "      <td>12129</td>\n",
              "      <td>12129</td>\n",
              "      <td>12129</td>\n",
              "      <td>12129</td>\n",
              "      <td>12129</td>\n",
              "    </tr>\n",
              "    <tr>\n",
              "      <th>14</th>\n",
              "      <td>10984</td>\n",
              "      <td>10984</td>\n",
              "      <td>10984</td>\n",
              "      <td>10984</td>\n",
              "      <td>10984</td>\n",
              "      <td>10984</td>\n",
              "      <td>10984</td>\n",
              "      <td>10984</td>\n",
              "      <td>10984</td>\n",
              "      <td>10984</td>\n",
              "    </tr>\n",
              "    <tr>\n",
              "      <th>15</th>\n",
              "      <td>10175</td>\n",
              "      <td>10175</td>\n",
              "      <td>10175</td>\n",
              "      <td>10175</td>\n",
              "      <td>10175</td>\n",
              "      <td>10175</td>\n",
              "      <td>10175</td>\n",
              "      <td>10175</td>\n",
              "      <td>10175</td>\n",
              "      <td>10175</td>\n",
              "    </tr>\n",
              "    <tr>\n",
              "      <th>16</th>\n",
              "      <td>10384</td>\n",
              "      <td>10384</td>\n",
              "      <td>10384</td>\n",
              "      <td>10384</td>\n",
              "      <td>10384</td>\n",
              "      <td>10384</td>\n",
              "      <td>10384</td>\n",
              "      <td>10384</td>\n",
              "      <td>10384</td>\n",
              "      <td>10384</td>\n",
              "    </tr>\n",
              "    <tr>\n",
              "      <th>17</th>\n",
              "      <td>10899</td>\n",
              "      <td>10899</td>\n",
              "      <td>10899</td>\n",
              "      <td>10899</td>\n",
              "      <td>10899</td>\n",
              "      <td>10899</td>\n",
              "      <td>10899</td>\n",
              "      <td>10899</td>\n",
              "      <td>10899</td>\n",
              "      <td>10899</td>\n",
              "    </tr>\n",
              "    <tr>\n",
              "      <th>18</th>\n",
              "      <td>12280</td>\n",
              "      <td>12280</td>\n",
              "      <td>12280</td>\n",
              "      <td>12280</td>\n",
              "      <td>12280</td>\n",
              "      <td>12280</td>\n",
              "      <td>12280</td>\n",
              "      <td>12280</td>\n",
              "      <td>12280</td>\n",
              "      <td>12280</td>\n",
              "    </tr>\n",
              "    <tr>\n",
              "      <th>19</th>\n",
              "      <td>12905</td>\n",
              "      <td>12905</td>\n",
              "      <td>12905</td>\n",
              "      <td>12905</td>\n",
              "      <td>12905</td>\n",
              "      <td>12905</td>\n",
              "      <td>12905</td>\n",
              "      <td>12905</td>\n",
              "      <td>12905</td>\n",
              "      <td>12905</td>\n",
              "    </tr>\n",
              "    <tr>\n",
              "      <th>20</th>\n",
              "      <td>12228</td>\n",
              "      <td>12228</td>\n",
              "      <td>12228</td>\n",
              "      <td>12228</td>\n",
              "      <td>12228</td>\n",
              "      <td>12228</td>\n",
              "      <td>12228</td>\n",
              "      <td>12228</td>\n",
              "      <td>12228</td>\n",
              "      <td>12228</td>\n",
              "    </tr>\n",
              "    <tr>\n",
              "      <th>21</th>\n",
              "      <td>10921</td>\n",
              "      <td>10921</td>\n",
              "      <td>10921</td>\n",
              "      <td>10921</td>\n",
              "      <td>10921</td>\n",
              "      <td>10921</td>\n",
              "      <td>10921</td>\n",
              "      <td>10921</td>\n",
              "      <td>10921</td>\n",
              "      <td>10921</td>\n",
              "    </tr>\n",
              "    <tr>\n",
              "      <th>22</th>\n",
              "      <td>8822</td>\n",
              "      <td>8822</td>\n",
              "      <td>8822</td>\n",
              "      <td>8822</td>\n",
              "      <td>8822</td>\n",
              "      <td>8822</td>\n",
              "      <td>8822</td>\n",
              "      <td>8822</td>\n",
              "      <td>8822</td>\n",
              "      <td>8822</td>\n",
              "    </tr>\n",
              "    <tr>\n",
              "      <th>23</th>\n",
              "      <td>6275</td>\n",
              "      <td>6275</td>\n",
              "      <td>6275</td>\n",
              "      <td>6275</td>\n",
              "      <td>6275</td>\n",
              "      <td>6275</td>\n",
              "      <td>6275</td>\n",
              "      <td>6275</td>\n",
              "      <td>6275</td>\n",
              "      <td>6275</td>\n",
              "    </tr>\n",
              "  </tbody>\n",
              "</table>\n",
              "</div>"
            ],
            "text/plain": [
              "      Order ID  Product  Quantity Ordered  ...  Sales   City  Minute\n",
              "Hour                                       ...                      \n",
              "0         3910     3910              3910  ...   3910   3910    3910\n",
              "1         2350     2350              2350  ...   2350   2350    2350\n",
              "2         1243     1243              1243  ...   1243   1243    1243\n",
              "3          831      831               831  ...    831    831     831\n",
              "4          854      854               854  ...    854    854     854\n",
              "5         1321     1321              1321  ...   1321   1321    1321\n",
              "6         2482     2482              2482  ...   2482   2482    2482\n",
              "7         4011     4011              4011  ...   4011   4011    4011\n",
              "8         6256     6256              6256  ...   6256   6256    6256\n",
              "9         8748     8748              8748  ...   8748   8748    8748\n",
              "10       10944    10944             10944  ...  10944  10944   10944\n",
              "11       12411    12411             12411  ...  12411  12411   12411\n",
              "12       12587    12587             12587  ...  12587  12587   12587\n",
              "13       12129    12129             12129  ...  12129  12129   12129\n",
              "14       10984    10984             10984  ...  10984  10984   10984\n",
              "15       10175    10175             10175  ...  10175  10175   10175\n",
              "16       10384    10384             10384  ...  10384  10384   10384\n",
              "17       10899    10899             10899  ...  10899  10899   10899\n",
              "18       12280    12280             12280  ...  12280  12280   12280\n",
              "19       12905    12905             12905  ...  12905  12905   12905\n",
              "20       12228    12228             12228  ...  12228  12228   12228\n",
              "21       10921    10921             10921  ...  10921  10921   10921\n",
              "22        8822     8822              8822  ...   8822   8822    8822\n",
              "23        6275     6275              6275  ...   6275   6275    6275\n",
              "\n",
              "[24 rows x 10 columns]"
            ]
          },
          "metadata": {
            "tags": []
          },
          "execution_count": 88
        }
      ]
    },
    {
      "cell_type": "code",
      "metadata": {
        "id": "E7soSaCSfhsp",
        "outputId": "810ce899-aa96-4af1-f6ae-8902f27fc1de",
        "colab": {
          "base_uri": "https://localhost:8080/",
          "height": 279
        }
      },
      "source": [
        "plt.plot(hours,all_data.groupby(['Hour']).count())\n",
        "plt.xticks(hours)\n",
        "plt.xlabel('Hour')\n",
        "plt.ylabel('No: of Items sold')\n",
        "plt.grid()\n",
        "plt.show()"
      ],
      "execution_count": null,
      "outputs": [
        {
          "output_type": "display_data",
          "data": {
            "image/png": "[encoded data removed]",
            "text/plain": [
              "<Figure size 432x288 with 1 Axes>"
            ]
          },
          "metadata": {
            "tags": [],
            "needs_background": "light"
          }
        }
      ]
    },
    {
      "cell_type": "code",
      "metadata": {
        "id": "TFP-PsT9neDT",
        "outputId": "c695ae85-4e4d-4910-eefa-b61617a8dcc7",
        "colab": {
          "base_uri": "https://localhost:8080/",
          "height": 606
        }
      },
      "source": [
        "df = all_data.loc[all_data['Order ID'].duplicated(keep=False)]\n",
        "df"
      ],
      "execution_count": null,
      "outputs": [
        {
          "output_type": "execute_result",
          "data": {
            "text/html": [
              "<div>\n",
              "<style scoped>\n",
              "    .dataframe tbody tr th:only-of-type {\n",
              "        vertical-align: middle;\n",
              "    }\n",
              "\n",
              "    .dataframe tbody tr th {\n",
              "        vertical-align: top;\n",
              "    }\n",
              "\n",
              "    .dataframe thead th {\n",
              "        text-align: right;\n",
              "    }\n",
              "</style>\n",
              "<table border=\"1\" class=\"dataframe\">\n",
              "  <thead>\n",
              "    <tr style=\"text-align: right;\">\n",
              "      <th></th>\n",
              "      <th>Order ID</th>\n",
              "      <th>Product</th>\n",
              "      <th>Quantity Ordered</th>\n",
              "      <th>Price Each</th>\n",
              "      <th>Order Date</th>\n",
              "      <th>Purchase Address</th>\n",
              "      <th>Month</th>\n",
              "      <th>Sales</th>\n",
              "      <th>City</th>\n",
              "      <th>Hour</th>\n",
              "      <th>Minute</th>\n",
              "    </tr>\n",
              "  </thead>\n",
              "  <tbody>\n",
              "    <tr>\n",
              "      <th>62</th>\n",
              "      <td>259420</td>\n",
              "      <td>Google Phone</td>\n",
              "      <td>1</td>\n",
              "      <td>600.00</td>\n",
              "      <td>2019-10-18 08:54:00</td>\n",
              "      <td>791 Forest St, Los Angeles, CA 90001</td>\n",
              "      <td>10</td>\n",
              "      <td>600.00</td>\n",
              "      <td>Los Angeles (CA)</td>\n",
              "      <td>8</td>\n",
              "      <td>54</td>\n",
              "    </tr>\n",
              "    <tr>\n",
              "      <th>63</th>\n",
              "      <td>259420</td>\n",
              "      <td>USB-C Charging Cable</td>\n",
              "      <td>2</td>\n",
              "      <td>11.95</td>\n",
              "      <td>2019-10-18 08:54:00</td>\n",
              "      <td>791 Forest St, Los Angeles, CA 90001</td>\n",
              "      <td>10</td>\n",
              "      <td>23.90</td>\n",
              "      <td>Los Angeles (CA)</td>\n",
              "      <td>8</td>\n",
              "      <td>54</td>\n",
              "    </tr>\n",
              "    <tr>\n",
              "      <th>65</th>\n",
              "      <td>259422</td>\n",
              "      <td>Google Phone</td>\n",
              "      <td>1</td>\n",
              "      <td>600.00</td>\n",
              "      <td>2019-10-05 04:53:00</td>\n",
              "      <td>849 Ridge St, San Francisco, CA 94016</td>\n",
              "      <td>10</td>\n",
              "      <td>600.00</td>\n",
              "      <td>San Francisco (CA)</td>\n",
              "      <td>4</td>\n",
              "      <td>53</td>\n",
              "    </tr>\n",
              "    <tr>\n",
              "      <th>66</th>\n",
              "      <td>259422</td>\n",
              "      <td>USB-C Charging Cable</td>\n",
              "      <td>1</td>\n",
              "      <td>11.95</td>\n",
              "      <td>2019-10-05 04:53:00</td>\n",
              "      <td>849 Ridge St, San Francisco, CA 94016</td>\n",
              "      <td>10</td>\n",
              "      <td>11.95</td>\n",
              "      <td>San Francisco (CA)</td>\n",
              "      <td>4</td>\n",
              "      <td>53</td>\n",
              "    </tr>\n",
              "    <tr>\n",
              "      <th>82</th>\n",
              "      <td>259438</td>\n",
              "      <td>iPhone</td>\n",
              "      <td>1</td>\n",
              "      <td>700.00</td>\n",
              "      <td>2019-10-29 09:47:00</td>\n",
              "      <td>176 5th St, Los Angeles, CA 90001</td>\n",
              "      <td>10</td>\n",
              "      <td>700.00</td>\n",
              "      <td>Los Angeles (CA)</td>\n",
              "      <td>9</td>\n",
              "      <td>47</td>\n",
              "    </tr>\n",
              "    <tr>\n",
              "      <th>...</th>\n",
              "      <td>...</td>\n",
              "      <td>...</td>\n",
              "      <td>...</td>\n",
              "      <td>...</td>\n",
              "      <td>...</td>\n",
              "      <td>...</td>\n",
              "      <td>...</td>\n",
              "      <td>...</td>\n",
              "      <td>...</td>\n",
              "      <td>...</td>\n",
              "      <td>...</td>\n",
              "    </tr>\n",
              "    <tr>\n",
              "      <th>186785</th>\n",
              "      <td>248088</td>\n",
              "      <td>Bose SoundSport Headphones</td>\n",
              "      <td>1</td>\n",
              "      <td>99.99</td>\n",
              "      <td>2019-08-13 19:26:00</td>\n",
              "      <td>614 11th St, San Francisco, CA 94016</td>\n",
              "      <td>8</td>\n",
              "      <td>99.99</td>\n",
              "      <td>San Francisco (CA)</td>\n",
              "      <td>19</td>\n",
              "      <td>26</td>\n",
              "    </tr>\n",
              "    <tr>\n",
              "      <th>186802</th>\n",
              "      <td>248105</td>\n",
              "      <td>Google Phone</td>\n",
              "      <td>1</td>\n",
              "      <td>600.00</td>\n",
              "      <td>2019-08-28 19:27:00</td>\n",
              "      <td>21 Center St, New York City, NY 10001</td>\n",
              "      <td>8</td>\n",
              "      <td>600.00</td>\n",
              "      <td>New York City (NY)</td>\n",
              "      <td>19</td>\n",
              "      <td>27</td>\n",
              "    </tr>\n",
              "    <tr>\n",
              "      <th>186803</th>\n",
              "      <td>248105</td>\n",
              "      <td>Wired Headphones</td>\n",
              "      <td>1</td>\n",
              "      <td>11.99</td>\n",
              "      <td>2019-08-28 19:27:00</td>\n",
              "      <td>21 Center St, New York City, NY 10001</td>\n",
              "      <td>8</td>\n",
              "      <td>11.99</td>\n",
              "      <td>New York City (NY)</td>\n",
              "      <td>19</td>\n",
              "      <td>27</td>\n",
              "    </tr>\n",
              "    <tr>\n",
              "      <th>186818</th>\n",
              "      <td>248120</td>\n",
              "      <td>Google Phone</td>\n",
              "      <td>1</td>\n",
              "      <td>600.00</td>\n",
              "      <td>2019-08-02 20:42:00</td>\n",
              "      <td>619 5th St, New York City, NY 10001</td>\n",
              "      <td>8</td>\n",
              "      <td>600.00</td>\n",
              "      <td>New York City (NY)</td>\n",
              "      <td>20</td>\n",
              "      <td>42</td>\n",
              "    </tr>\n",
              "    <tr>\n",
              "      <th>186819</th>\n",
              "      <td>248120</td>\n",
              "      <td>USB-C Charging Cable</td>\n",
              "      <td>1</td>\n",
              "      <td>11.95</td>\n",
              "      <td>2019-08-02 20:42:00</td>\n",
              "      <td>619 5th St, New York City, NY 10001</td>\n",
              "      <td>8</td>\n",
              "      <td>11.95</td>\n",
              "      <td>New York City (NY)</td>\n",
              "      <td>20</td>\n",
              "      <td>42</td>\n",
              "    </tr>\n",
              "  </tbody>\n",
              "</table>\n",
              "<p>14649 rows × 11 columns</p>\n",
              "</div>"
            ],
            "text/plain": [
              "       Order ID                     Product  ...  Hour  Minute\n",
              "62       259420                Google Phone  ...     8      54\n",
              "63       259420        USB-C Charging Cable  ...     8      54\n",
              "65       259422                Google Phone  ...     4      53\n",
              "66       259422        USB-C Charging Cable  ...     4      53\n",
              "82       259438                      iPhone  ...     9      47\n",
              "...         ...                         ...  ...   ...     ...\n",
              "186785   248088  Bose SoundSport Headphones  ...    19      26\n",
              "186802   248105                Google Phone  ...    19      27\n",
              "186803   248105            Wired Headphones  ...    19      27\n",
              "186818   248120                Google Phone  ...    20      42\n",
              "186819   248120        USB-C Charging Cable  ...    20      42\n",
              "\n",
              "[14649 rows x 11 columns]"
            ]
          },
          "metadata": {
            "tags": []
          },
          "execution_count": 97
        }
      ]
    },
    {
      "cell_type": "code",
      "metadata": {
        "id": "TOdTrp8LprAO",
        "outputId": "89c07e6a-95d7-4aea-dbc5-b5aae1b1c28e",
        "colab": {
          "base_uri": "https://localhost:8080/",
          "height": 306
        }
      },
      "source": [
        "df['Grouped'] = df.groupby(['Order ID'])['Product'].transform(lambda x : ','.join(x))\n",
        "df = df[['Order ID','Grouped']].drop_duplicates()\n",
        "df.head()"
      ],
      "execution_count": null,
      "outputs": [
        {
          "output_type": "stream",
          "text": [
            "/usr/local/lib/python3.6/dist-packages/ipykernel_launcher.py:1: SettingWithCopyWarning: \n",
            "A value is trying to be set on a copy of a slice from a DataFrame.\n",
            "Try using .loc[row_indexer,col_indexer] = value instead\n",
            "\n",
            "See the caveats in the documentation: https://pandas.pydata.org/pandas-docs/stable/user_guide/indexing.html#returning-a-view-versus-a-copy\n",
            "  \"\"\"Entry point for launching an IPython kernel.\n"
          ],
          "name": "stderr"
        },
        {
          "output_type": "execute_result",
          "data": {
            "text/html": [
              "<div>\n",
              "<style scoped>\n",
              "    .dataframe tbody tr th:only-of-type {\n",
              "        vertical-align: middle;\n",
              "    }\n",
              "\n",
              "    .dataframe tbody tr th {\n",
              "        vertical-align: top;\n",
              "    }\n",
              "\n",
              "    .dataframe thead th {\n",
              "        text-align: right;\n",
              "    }\n",
              "</style>\n",
              "<table border=\"1\" class=\"dataframe\">\n",
              "  <thead>\n",
              "    <tr style=\"text-align: right;\">\n",
              "      <th></th>\n",
              "      <th>Order ID</th>\n",
              "      <th>Grouped</th>\n",
              "    </tr>\n",
              "  </thead>\n",
              "  <tbody>\n",
              "    <tr>\n",
              "      <th>62</th>\n",
              "      <td>259420</td>\n",
              "      <td>Google Phone,USB-C Charging Cable</td>\n",
              "    </tr>\n",
              "    <tr>\n",
              "      <th>65</th>\n",
              "      <td>259422</td>\n",
              "      <td>Google Phone,USB-C Charging Cable</td>\n",
              "    </tr>\n",
              "    <tr>\n",
              "      <th>82</th>\n",
              "      <td>259438</td>\n",
              "      <td>iPhone,Lightning Charging Cable</td>\n",
              "    </tr>\n",
              "    <tr>\n",
              "      <th>103</th>\n",
              "      <td>259458</td>\n",
              "      <td>34in Ultrawide Monitor,ThinkPad Laptop</td>\n",
              "    </tr>\n",
              "    <tr>\n",
              "      <th>123</th>\n",
              "      <td>259477</td>\n",
              "      <td>LG Dryer,AAA Batteries (4-pack)</td>\n",
              "    </tr>\n",
              "  </tbody>\n",
              "</table>\n",
              "</div>"
            ],
            "text/plain": [
              "    Order ID                                 Grouped\n",
              "62    259420       Google Phone,USB-C Charging Cable\n",
              "65    259422       Google Phone,USB-C Charging Cable\n",
              "82    259438         iPhone,Lightning Charging Cable\n",
              "103   259458  34in Ultrawide Monitor,ThinkPad Laptop\n",
              "123   259477         LG Dryer,AAA Batteries (4-pack)"
            ]
          },
          "metadata": {
            "tags": []
          },
          "execution_count": 101
        }
      ]
    },
    {
      "cell_type": "code",
      "metadata": {
        "id": "J8krs0zWrFuq"
      },
      "source": [
        "from itertools import combinations\n",
        "from collections import Counter"
      ],
      "execution_count": null,
      "outputs": []
    },
    {
      "cell_type": "code",
      "metadata": {
        "id": "_fa7t-KBu2fZ",
        "outputId": "67e7e36f-d598-456a-86e1-59fd55c46410",
        "colab": {
          "base_uri": "https://localhost:8080/",
          "height": 191
        }
      },
      "source": [
        "count = Counter()\n",
        "for row in df['Grouped']:\n",
        "  row_list = row.split(',')\n",
        "  count.update(Counter(combinations(row_list,2)))\n",
        "count.most_common(10)"
      ],
      "execution_count": null,
      "outputs": [
        {
          "output_type": "execute_result",
          "data": {
            "text/plain": [
              "[(('iPhone', 'Lightning Charging Cable'), 1005),\n",
              " (('Google Phone', 'USB-C Charging Cable'), 987),\n",
              " (('iPhone', 'Wired Headphones'), 447),\n",
              " (('Google Phone', 'Wired Headphones'), 414),\n",
              " (('Vareebadd Phone', 'USB-C Charging Cable'), 361),\n",
              " (('iPhone', 'Apple Airpods Headphones'), 360),\n",
              " (('Google Phone', 'Bose SoundSport Headphones'), 220),\n",
              " (('USB-C Charging Cable', 'Wired Headphones'), 160),\n",
              " (('Vareebadd Phone', 'Wired Headphones'), 143),\n",
              " (('Lightning Charging Cable', 'Wired Headphones'), 92)]"
            ]
          },
          "metadata": {
            "tags": []
          },
          "execution_count": 104
        }
      ]
    },
    {
      "cell_type": "code",
      "metadata": {
        "id": "ENood7ONwCEQ",
        "outputId": "3363f371-14ec-4bde-92ba-df0899e8e489",
        "colab": {
          "base_uri": "https://localhost:8080/",
          "height": 662
        }
      },
      "source": [
        "product_group = all_data.groupby(['Product']).sum()\n",
        "product_group"
      ],
      "execution_count": null,
      "outputs": [
        {
          "output_type": "execute_result",
          "data": {
            "text/html": [
              "<div>\n",
              "<style scoped>\n",
              "    .dataframe tbody tr th:only-of-type {\n",
              "        vertical-align: middle;\n",
              "    }\n",
              "\n",
              "    .dataframe tbody tr th {\n",
              "        vertical-align: top;\n",
              "    }\n",
              "\n",
              "    .dataframe thead th {\n",
              "        text-align: right;\n",
              "    }\n",
              "</style>\n",
              "<table border=\"1\" class=\"dataframe\">\n",
              "  <thead>\n",
              "    <tr style=\"text-align: right;\">\n",
              "      <th></th>\n",
              "      <th>Quantity Ordered</th>\n",
              "      <th>Price Each</th>\n",
              "      <th>Month</th>\n",
              "      <th>Sales</th>\n",
              "      <th>Hour</th>\n",
              "      <th>Minute</th>\n",
              "    </tr>\n",
              "    <tr>\n",
              "      <th>Product</th>\n",
              "      <th></th>\n",
              "      <th></th>\n",
              "      <th></th>\n",
              "      <th></th>\n",
              "      <th></th>\n",
              "      <th></th>\n",
              "    </tr>\n",
              "  </thead>\n",
              "  <tbody>\n",
              "    <tr>\n",
              "      <th>20in Monitor</th>\n",
              "      <td>4129</td>\n",
              "      <td>451068.99</td>\n",
              "      <td>29336</td>\n",
              "      <td>454148.71</td>\n",
              "      <td>58764</td>\n",
              "      <td>122252</td>\n",
              "    </tr>\n",
              "    <tr>\n",
              "      <th>27in 4K Gaming Monitor</th>\n",
              "      <td>6244</td>\n",
              "      <td>2429637.70</td>\n",
              "      <td>44440</td>\n",
              "      <td>2435097.56</td>\n",
              "      <td>90916</td>\n",
              "      <td>184331</td>\n",
              "    </tr>\n",
              "    <tr>\n",
              "      <th>27in FHD Monitor</th>\n",
              "      <td>7550</td>\n",
              "      <td>1125974.93</td>\n",
              "      <td>52558</td>\n",
              "      <td>1132424.50</td>\n",
              "      <td>107540</td>\n",
              "      <td>219948</td>\n",
              "    </tr>\n",
              "    <tr>\n",
              "      <th>34in Ultrawide Monitor</th>\n",
              "      <td>6199</td>\n",
              "      <td>2348718.19</td>\n",
              "      <td>43304</td>\n",
              "      <td>2355558.01</td>\n",
              "      <td>89076</td>\n",
              "      <td>183480</td>\n",
              "    </tr>\n",
              "    <tr>\n",
              "      <th>AA Batteries (4-pack)</th>\n",
              "      <td>27635</td>\n",
              "      <td>79015.68</td>\n",
              "      <td>145558</td>\n",
              "      <td>106118.40</td>\n",
              "      <td>298342</td>\n",
              "      <td>609039</td>\n",
              "    </tr>\n",
              "    <tr>\n",
              "      <th>AAA Batteries (4-pack)</th>\n",
              "      <td>31017</td>\n",
              "      <td>61716.59</td>\n",
              "      <td>146370</td>\n",
              "      <td>92740.83</td>\n",
              "      <td>297332</td>\n",
              "      <td>612113</td>\n",
              "    </tr>\n",
              "    <tr>\n",
              "      <th>Apple Airpods Headphones</th>\n",
              "      <td>15661</td>\n",
              "      <td>2332350.00</td>\n",
              "      <td>109477</td>\n",
              "      <td>2349150.00</td>\n",
              "      <td>223304</td>\n",
              "      <td>455570</td>\n",
              "    </tr>\n",
              "    <tr>\n",
              "      <th>Bose SoundSport Headphones</th>\n",
              "      <td>13457</td>\n",
              "      <td>1332366.75</td>\n",
              "      <td>94113</td>\n",
              "      <td>1345565.43</td>\n",
              "      <td>192445</td>\n",
              "      <td>392603</td>\n",
              "    </tr>\n",
              "    <tr>\n",
              "      <th>Flatscreen TV</th>\n",
              "      <td>4819</td>\n",
              "      <td>1440000.00</td>\n",
              "      <td>34224</td>\n",
              "      <td>1445700.00</td>\n",
              "      <td>68815</td>\n",
              "      <td>142789</td>\n",
              "    </tr>\n",
              "    <tr>\n",
              "      <th>Google Phone</th>\n",
              "      <td>5532</td>\n",
              "      <td>3315000.00</td>\n",
              "      <td>38305</td>\n",
              "      <td>3319200.00</td>\n",
              "      <td>79479</td>\n",
              "      <td>162773</td>\n",
              "    </tr>\n",
              "    <tr>\n",
              "      <th>LG Dryer</th>\n",
              "      <td>646</td>\n",
              "      <td>387600.00</td>\n",
              "      <td>4383</td>\n",
              "      <td>387600.00</td>\n",
              "      <td>9326</td>\n",
              "      <td>19043</td>\n",
              "    </tr>\n",
              "    <tr>\n",
              "      <th>LG Washing Machine</th>\n",
              "      <td>666</td>\n",
              "      <td>399600.00</td>\n",
              "      <td>4523</td>\n",
              "      <td>399600.00</td>\n",
              "      <td>9785</td>\n",
              "      <td>19462</td>\n",
              "    </tr>\n",
              "    <tr>\n",
              "      <th>Lightning Charging Cable</th>\n",
              "      <td>23217</td>\n",
              "      <td>323787.10</td>\n",
              "      <td>153092</td>\n",
              "      <td>347094.15</td>\n",
              "      <td>312529</td>\n",
              "      <td>634442</td>\n",
              "    </tr>\n",
              "    <tr>\n",
              "      <th>Macbook Pro Laptop</th>\n",
              "      <td>4728</td>\n",
              "      <td>8030800.00</td>\n",
              "      <td>33548</td>\n",
              "      <td>8037600.00</td>\n",
              "      <td>68261</td>\n",
              "      <td>137574</td>\n",
              "    </tr>\n",
              "    <tr>\n",
              "      <th>ThinkPad Laptop</th>\n",
              "      <td>4130</td>\n",
              "      <td>4127958.72</td>\n",
              "      <td>28950</td>\n",
              "      <td>4129958.70</td>\n",
              "      <td>59746</td>\n",
              "      <td>121508</td>\n",
              "    </tr>\n",
              "    <tr>\n",
              "      <th>USB-C Charging Cable</th>\n",
              "      <td>23975</td>\n",
              "      <td>261740.85</td>\n",
              "      <td>154819</td>\n",
              "      <td>286501.25</td>\n",
              "      <td>314645</td>\n",
              "      <td>647586</td>\n",
              "    </tr>\n",
              "    <tr>\n",
              "      <th>Vareebadd Phone</th>\n",
              "      <td>2068</td>\n",
              "      <td>826000.00</td>\n",
              "      <td>14309</td>\n",
              "      <td>827200.00</td>\n",
              "      <td>29472</td>\n",
              "      <td>61835</td>\n",
              "    </tr>\n",
              "    <tr>\n",
              "      <th>Wired Headphones</th>\n",
              "      <td>20557</td>\n",
              "      <td>226395.18</td>\n",
              "      <td>133397</td>\n",
              "      <td>246478.43</td>\n",
              "      <td>271720</td>\n",
              "      <td>554023</td>\n",
              "    </tr>\n",
              "    <tr>\n",
              "      <th>iPhone</th>\n",
              "      <td>6849</td>\n",
              "      <td>4789400.00</td>\n",
              "      <td>47941</td>\n",
              "      <td>4794300.00</td>\n",
              "      <td>98657</td>\n",
              "      <td>201688</td>\n",
              "    </tr>\n",
              "  </tbody>\n",
              "</table>\n",
              "</div>"
            ],
            "text/plain": [
              "                            Quantity Ordered  Price Each  ...    Hour  Minute\n",
              "Product                                                   ...                \n",
              "20in Monitor                            4129   451068.99  ...   58764  122252\n",
              "27in 4K Gaming Monitor                  6244  2429637.70  ...   90916  184331\n",
              "27in FHD Monitor                        7550  1125974.93  ...  107540  219948\n",
              "34in Ultrawide Monitor                  6199  2348718.19  ...   89076  183480\n",
              "AA Batteries (4-pack)                  27635    79015.68  ...  298342  609039\n",
              "AAA Batteries (4-pack)                 31017    61716.59  ...  297332  612113\n",
              "Apple Airpods Headphones               15661  2332350.00  ...  223304  455570\n",
              "Bose SoundSport Headphones             13457  1332366.75  ...  192445  392603\n",
              "Flatscreen TV                           4819  1440000.00  ...   68815  142789\n",
              "Google Phone                            5532  3315000.00  ...   79479  162773\n",
              "LG Dryer                                 646   387600.00  ...    9326   19043\n",
              "LG Washing Machine                       666   399600.00  ...    9785   19462\n",
              "Lightning Charging Cable               23217   323787.10  ...  312529  634442\n",
              "Macbook Pro Laptop                      4728  8030800.00  ...   68261  137574\n",
              "ThinkPad Laptop                         4130  4127958.72  ...   59746  121508\n",
              "USB-C Charging Cable                   23975   261740.85  ...  314645  647586\n",
              "Vareebadd Phone                         2068   826000.00  ...   29472   61835\n",
              "Wired Headphones                       20557   226395.18  ...  271720  554023\n",
              "iPhone                                  6849  4789400.00  ...   98657  201688\n",
              "\n",
              "[19 rows x 6 columns]"
            ]
          },
          "metadata": {
            "tags": []
          },
          "execution_count": 106
        }
      ]
    },
    {
      "cell_type": "code",
      "metadata": {
        "id": "QBhdlWF6xUST"
      },
      "source": [
        "products = [prod for prod,df in all_data.groupby(['Product'])]\n",
        "qty_ordered = product_group['Quantity Ordered']"
      ],
      "execution_count": null,
      "outputs": []
    },
    {
      "cell_type": "code",
      "metadata": {
        "id": "xnYdcmV8xqzW",
        "outputId": "9b60ebb9-8a9b-4ea1-f175-c95bc3f8ddb0",
        "colab": {
          "base_uri": "https://localhost:8080/",
          "height": 406
        }
      },
      "source": [
        "plt.bar(products,qty_ordered)\n",
        "plt.xticks(products,rotation='vertical')\n",
        "plt.ylabel('Qty Ordered')\n",
        "plt.show()"
      ],
      "execution_count": null,
      "outputs": [
        {
          "output_type": "display_data",
          "data": {
            "image/png": "[encoded data removed]",
            "text/plain": [
              "<Figure size 432x288 with 1 Axes>"
            ]
          },
          "metadata": {
            "tags": [],
            "needs_background": "light"
          }
        }
      ]
    },
    {
      "cell_type": "code",
      "metadata": {
        "id": "CQArOxYWx63u"
      },
      "source": [
        "prices = all_data.groupby(['Product']).mean()['Price Each']"
      ],
      "execution_count": null,
      "outputs": []
    },
    {
      "cell_type": "code",
      "metadata": {
        "id": "eTuMmOxm7AUO",
        "outputId": "ac774af7-50bd-48c3-a777-ab34636ae977",
        "colab": {
          "base_uri": "https://localhost:8080/",
          "height": 420
        }
      },
      "source": [
        "fig,ax1 = plt.subplots()\n",
        "ax2 = ax1.twinx()\n",
        "ax1.bar(products,qty_ordered,color='g')\n",
        "ax2.plot(products,prices)\n",
        "ax1.set_xlabel('Product Name')\n",
        "ax1.set_xticklabels(products,rotation='vertical')\n",
        "ax1.set_ylabel('Qty Ordered',color='g')\n",
        "ax2.set_ylabel('Price')\n",
        "plt.show()"
      ],
      "execution_count": null,
      "outputs": [
        {
          "output_type": "display_data",
          "data": {
            "image/png": "[encoded data removed]",
            "text/plain": [
              "<Figure size 432x288 with 2 Axes>"
            ]
          },
          "metadata": {
            "tags": [],
            "needs_background": "light"
          }
        }
      ]
    },
    {
      "cell_type": "code",
      "metadata": {
        "id": "XvLK1yvi7jVp"
      },
      "source": [
        ""
      ],
      "execution_count": null,
      "outputs": []
    }
  ]
}